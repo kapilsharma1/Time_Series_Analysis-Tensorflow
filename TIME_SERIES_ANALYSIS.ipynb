{
  "nbformat": 4,
  "nbformat_minor": 0,
  "metadata": {
    "colab": {
      "name": "TIME SERIES ANALYSIS.ipynb",
      "version": "0.3.2",
      "provenance": []
    },
    "kernelspec": {
      "display_name": "Python 3",
      "language": "python",
      "name": "python3"
    }
  },
  "cells": [
    {
      "metadata": {
        "id": "sqhM6cnaTtWJ",
        "colab_type": "code",
        "colab": {}
      },
      "cell_type": "code",
      "source": [
        "#DATA Source: https://datamarket.com/data/set/22ox/monthly-milk-production-pounds-per-cow-jan-62-dec-75#!ds=22ox&display=line\n",
        "\n",
        "#Monthly milk production: pounds per cow. Jan 62 - Dec 75"
      ],
      "execution_count": 0,
      "outputs": []
    },
    {
      "metadata": {
        "id": "XL_2EOAeTlZg",
        "colab_type": "code",
        "colab": {}
      },
      "cell_type": "code",
      "source": [
        "#importing essential libraries.\n",
        "import numpy as np\n",
        "import pandas as pd\n",
        "import matplotlib.pyplot as plt\n",
        "%matplotlib inline"
      ],
      "execution_count": 0,
      "outputs": []
    },
    {
      "metadata": {
        "id": "u7-dKy9qTlZn",
        "colab_type": "code",
        "colab": {}
      },
      "cell_type": "code",
      "source": [
        "#reading dataset as pandas datframe.\n",
        "milk=pd.read_csv(\"monthly-milk-production.csv\",index_col=\"Month\")"
      ],
      "execution_count": 0,
      "outputs": []
    },
    {
      "metadata": {
        "id": "bdu5S_nbTlZs",
        "colab_type": "code",
        "colab": {},
        "outputId": "e55d7108-3152-4640-cb1d-cf92af783511"
      },
      "cell_type": "code",
      "source": [
        "#dataframe\n",
        "milk"
      ],
      "execution_count": 0,
      "outputs": [
        {
          "output_type": "execute_result",
          "data": {
            "text/html": [
              "<div>\n",
              "<style scoped>\n",
              "    .dataframe tbody tr th:only-of-type {\n",
              "        vertical-align: middle;\n",
              "    }\n",
              "\n",
              "    .dataframe tbody tr th {\n",
              "        vertical-align: top;\n",
              "    }\n",
              "\n",
              "    .dataframe thead th {\n",
              "        text-align: right;\n",
              "    }\n",
              "</style>\n",
              "<table border=\"1\" class=\"dataframe\">\n",
              "  <thead>\n",
              "    <tr style=\"text-align: right;\">\n",
              "      <th></th>\n",
              "      <th>Milk Production</th>\n",
              "    </tr>\n",
              "    <tr>\n",
              "      <th>Month</th>\n",
              "      <th></th>\n",
              "    </tr>\n",
              "  </thead>\n",
              "  <tbody>\n",
              "    <tr>\n",
              "      <th>1962-01-01 01:00:00</th>\n",
              "      <td>589.0</td>\n",
              "    </tr>\n",
              "    <tr>\n",
              "      <th>1962-02-01 01:00:00</th>\n",
              "      <td>561.0</td>\n",
              "    </tr>\n",
              "    <tr>\n",
              "      <th>1962-03-01 01:00:00</th>\n",
              "      <td>640.0</td>\n",
              "    </tr>\n",
              "    <tr>\n",
              "      <th>1962-04-01 01:00:00</th>\n",
              "      <td>656.0</td>\n",
              "    </tr>\n",
              "    <tr>\n",
              "      <th>1962-05-01 01:00:00</th>\n",
              "      <td>727.0</td>\n",
              "    </tr>\n",
              "    <tr>\n",
              "      <th>1962-06-01 01:00:00</th>\n",
              "      <td>697.0</td>\n",
              "    </tr>\n",
              "    <tr>\n",
              "      <th>1962-07-01 01:00:00</th>\n",
              "      <td>640.0</td>\n",
              "    </tr>\n",
              "    <tr>\n",
              "      <th>1962-08-01 01:00:00</th>\n",
              "      <td>599.0</td>\n",
              "    </tr>\n",
              "    <tr>\n",
              "      <th>1962-09-01 01:00:00</th>\n",
              "      <td>568.0</td>\n",
              "    </tr>\n",
              "    <tr>\n",
              "      <th>1962-10-01 01:00:00</th>\n",
              "      <td>577.0</td>\n",
              "    </tr>\n",
              "    <tr>\n",
              "      <th>1962-11-01 01:00:00</th>\n",
              "      <td>553.0</td>\n",
              "    </tr>\n",
              "    <tr>\n",
              "      <th>1962-12-01 01:00:00</th>\n",
              "      <td>582.0</td>\n",
              "    </tr>\n",
              "    <tr>\n",
              "      <th>1963-01-01 01:00:00</th>\n",
              "      <td>600.0</td>\n",
              "    </tr>\n",
              "    <tr>\n",
              "      <th>1963-02-01 01:00:00</th>\n",
              "      <td>566.0</td>\n",
              "    </tr>\n",
              "    <tr>\n",
              "      <th>1963-03-01 01:00:00</th>\n",
              "      <td>653.0</td>\n",
              "    </tr>\n",
              "    <tr>\n",
              "      <th>1963-04-01 01:00:00</th>\n",
              "      <td>673.0</td>\n",
              "    </tr>\n",
              "    <tr>\n",
              "      <th>1963-05-01 01:00:00</th>\n",
              "      <td>742.0</td>\n",
              "    </tr>\n",
              "    <tr>\n",
              "      <th>1963-06-01 01:00:00</th>\n",
              "      <td>716.0</td>\n",
              "    </tr>\n",
              "    <tr>\n",
              "      <th>1963-07-01 01:00:00</th>\n",
              "      <td>660.0</td>\n",
              "    </tr>\n",
              "    <tr>\n",
              "      <th>1963-08-01 01:00:00</th>\n",
              "      <td>617.0</td>\n",
              "    </tr>\n",
              "    <tr>\n",
              "      <th>1963-09-01 01:00:00</th>\n",
              "      <td>583.0</td>\n",
              "    </tr>\n",
              "    <tr>\n",
              "      <th>1963-10-01 01:00:00</th>\n",
              "      <td>587.0</td>\n",
              "    </tr>\n",
              "    <tr>\n",
              "      <th>1963-11-01 01:00:00</th>\n",
              "      <td>565.0</td>\n",
              "    </tr>\n",
              "    <tr>\n",
              "      <th>1963-12-01 01:00:00</th>\n",
              "      <td>598.0</td>\n",
              "    </tr>\n",
              "    <tr>\n",
              "      <th>1964-01-01 01:00:00</th>\n",
              "      <td>628.0</td>\n",
              "    </tr>\n",
              "    <tr>\n",
              "      <th>1964-02-01 01:00:00</th>\n",
              "      <td>618.0</td>\n",
              "    </tr>\n",
              "    <tr>\n",
              "      <th>1964-03-01 01:00:00</th>\n",
              "      <td>688.0</td>\n",
              "    </tr>\n",
              "    <tr>\n",
              "      <th>1964-04-01 01:00:00</th>\n",
              "      <td>705.0</td>\n",
              "    </tr>\n",
              "    <tr>\n",
              "      <th>1964-05-01 01:00:00</th>\n",
              "      <td>770.0</td>\n",
              "    </tr>\n",
              "    <tr>\n",
              "      <th>1964-06-01 01:00:00</th>\n",
              "      <td>736.0</td>\n",
              "    </tr>\n",
              "    <tr>\n",
              "      <th>...</th>\n",
              "      <td>...</td>\n",
              "    </tr>\n",
              "    <tr>\n",
              "      <th>1973-07-01 01:00:00</th>\n",
              "      <td>881.0</td>\n",
              "    </tr>\n",
              "    <tr>\n",
              "      <th>1973-08-01 01:00:00</th>\n",
              "      <td>837.0</td>\n",
              "    </tr>\n",
              "    <tr>\n",
              "      <th>1973-09-01 01:00:00</th>\n",
              "      <td>784.0</td>\n",
              "    </tr>\n",
              "    <tr>\n",
              "      <th>1973-10-01 01:00:00</th>\n",
              "      <td>791.0</td>\n",
              "    </tr>\n",
              "    <tr>\n",
              "      <th>1973-11-01 01:00:00</th>\n",
              "      <td>760.0</td>\n",
              "    </tr>\n",
              "    <tr>\n",
              "      <th>1973-12-01 01:00:00</th>\n",
              "      <td>802.0</td>\n",
              "    </tr>\n",
              "    <tr>\n",
              "      <th>1974-01-01 01:00:00</th>\n",
              "      <td>828.0</td>\n",
              "    </tr>\n",
              "    <tr>\n",
              "      <th>1974-02-01 01:00:00</th>\n",
              "      <td>778.0</td>\n",
              "    </tr>\n",
              "    <tr>\n",
              "      <th>1974-03-01 01:00:00</th>\n",
              "      <td>889.0</td>\n",
              "    </tr>\n",
              "    <tr>\n",
              "      <th>1974-04-01 01:00:00</th>\n",
              "      <td>902.0</td>\n",
              "    </tr>\n",
              "    <tr>\n",
              "      <th>1974-05-01 01:00:00</th>\n",
              "      <td>969.0</td>\n",
              "    </tr>\n",
              "    <tr>\n",
              "      <th>1974-06-01 01:00:00</th>\n",
              "      <td>947.0</td>\n",
              "    </tr>\n",
              "    <tr>\n",
              "      <th>1974-07-01 01:00:00</th>\n",
              "      <td>908.0</td>\n",
              "    </tr>\n",
              "    <tr>\n",
              "      <th>1974-08-01 01:00:00</th>\n",
              "      <td>867.0</td>\n",
              "    </tr>\n",
              "    <tr>\n",
              "      <th>1974-09-01 01:00:00</th>\n",
              "      <td>815.0</td>\n",
              "    </tr>\n",
              "    <tr>\n",
              "      <th>1974-10-01 01:00:00</th>\n",
              "      <td>812.0</td>\n",
              "    </tr>\n",
              "    <tr>\n",
              "      <th>1974-11-01 01:00:00</th>\n",
              "      <td>773.0</td>\n",
              "    </tr>\n",
              "    <tr>\n",
              "      <th>1974-12-01 01:00:00</th>\n",
              "      <td>813.0</td>\n",
              "    </tr>\n",
              "    <tr>\n",
              "      <th>1975-01-01 01:00:00</th>\n",
              "      <td>834.0</td>\n",
              "    </tr>\n",
              "    <tr>\n",
              "      <th>1975-02-01 01:00:00</th>\n",
              "      <td>782.0</td>\n",
              "    </tr>\n",
              "    <tr>\n",
              "      <th>1975-03-01 01:00:00</th>\n",
              "      <td>892.0</td>\n",
              "    </tr>\n",
              "    <tr>\n",
              "      <th>1975-04-01 01:00:00</th>\n",
              "      <td>903.0</td>\n",
              "    </tr>\n",
              "    <tr>\n",
              "      <th>1975-05-01 01:00:00</th>\n",
              "      <td>966.0</td>\n",
              "    </tr>\n",
              "    <tr>\n",
              "      <th>1975-06-01 01:00:00</th>\n",
              "      <td>937.0</td>\n",
              "    </tr>\n",
              "    <tr>\n",
              "      <th>1975-07-01 01:00:00</th>\n",
              "      <td>896.0</td>\n",
              "    </tr>\n",
              "    <tr>\n",
              "      <th>1975-08-01 01:00:00</th>\n",
              "      <td>858.0</td>\n",
              "    </tr>\n",
              "    <tr>\n",
              "      <th>1975-09-01 01:00:00</th>\n",
              "      <td>817.0</td>\n",
              "    </tr>\n",
              "    <tr>\n",
              "      <th>1975-10-01 01:00:00</th>\n",
              "      <td>827.0</td>\n",
              "    </tr>\n",
              "    <tr>\n",
              "      <th>1975-11-01 01:00:00</th>\n",
              "      <td>797.0</td>\n",
              "    </tr>\n",
              "    <tr>\n",
              "      <th>1975-12-01 01:00:00</th>\n",
              "      <td>843.0</td>\n",
              "    </tr>\n",
              "  </tbody>\n",
              "</table>\n",
              "<p>168 rows × 1 columns</p>\n",
              "</div>"
            ],
            "text/plain": [
              "                     Milk Production\n",
              "Month                               \n",
              "1962-01-01 01:00:00            589.0\n",
              "1962-02-01 01:00:00            561.0\n",
              "1962-03-01 01:00:00            640.0\n",
              "1962-04-01 01:00:00            656.0\n",
              "1962-05-01 01:00:00            727.0\n",
              "1962-06-01 01:00:00            697.0\n",
              "1962-07-01 01:00:00            640.0\n",
              "1962-08-01 01:00:00            599.0\n",
              "1962-09-01 01:00:00            568.0\n",
              "1962-10-01 01:00:00            577.0\n",
              "1962-11-01 01:00:00            553.0\n",
              "1962-12-01 01:00:00            582.0\n",
              "1963-01-01 01:00:00            600.0\n",
              "1963-02-01 01:00:00            566.0\n",
              "1963-03-01 01:00:00            653.0\n",
              "1963-04-01 01:00:00            673.0\n",
              "1963-05-01 01:00:00            742.0\n",
              "1963-06-01 01:00:00            716.0\n",
              "1963-07-01 01:00:00            660.0\n",
              "1963-08-01 01:00:00            617.0\n",
              "1963-09-01 01:00:00            583.0\n",
              "1963-10-01 01:00:00            587.0\n",
              "1963-11-01 01:00:00            565.0\n",
              "1963-12-01 01:00:00            598.0\n",
              "1964-01-01 01:00:00            628.0\n",
              "1964-02-01 01:00:00            618.0\n",
              "1964-03-01 01:00:00            688.0\n",
              "1964-04-01 01:00:00            705.0\n",
              "1964-05-01 01:00:00            770.0\n",
              "1964-06-01 01:00:00            736.0\n",
              "...                              ...\n",
              "1973-07-01 01:00:00            881.0\n",
              "1973-08-01 01:00:00            837.0\n",
              "1973-09-01 01:00:00            784.0\n",
              "1973-10-01 01:00:00            791.0\n",
              "1973-11-01 01:00:00            760.0\n",
              "1973-12-01 01:00:00            802.0\n",
              "1974-01-01 01:00:00            828.0\n",
              "1974-02-01 01:00:00            778.0\n",
              "1974-03-01 01:00:00            889.0\n",
              "1974-04-01 01:00:00            902.0\n",
              "1974-05-01 01:00:00            969.0\n",
              "1974-06-01 01:00:00            947.0\n",
              "1974-07-01 01:00:00            908.0\n",
              "1974-08-01 01:00:00            867.0\n",
              "1974-09-01 01:00:00            815.0\n",
              "1974-10-01 01:00:00            812.0\n",
              "1974-11-01 01:00:00            773.0\n",
              "1974-12-01 01:00:00            813.0\n",
              "1975-01-01 01:00:00            834.0\n",
              "1975-02-01 01:00:00            782.0\n",
              "1975-03-01 01:00:00            892.0\n",
              "1975-04-01 01:00:00            903.0\n",
              "1975-05-01 01:00:00            966.0\n",
              "1975-06-01 01:00:00            937.0\n",
              "1975-07-01 01:00:00            896.0\n",
              "1975-08-01 01:00:00            858.0\n",
              "1975-09-01 01:00:00            817.0\n",
              "1975-10-01 01:00:00            827.0\n",
              "1975-11-01 01:00:00            797.0\n",
              "1975-12-01 01:00:00            843.0\n",
              "\n",
              "[168 rows x 1 columns]"
            ]
          },
          "metadata": {
            "tags": []
          },
          "execution_count": 3
        }
      ]
    },
    {
      "metadata": {
        "id": "TCqQ71NnTlZ0",
        "colab_type": "code",
        "colab": {}
      },
      "cell_type": "code",
      "source": [
        "#Making index a timeseries.\n",
        "milk.index=pd.to_datetime(milk.index)"
      ],
      "execution_count": 0,
      "outputs": []
    },
    {
      "metadata": {
        "id": "bywLoz6XTlZ5",
        "colab_type": "code",
        "colab": {},
        "outputId": "7d616a9c-181e-4f1c-a3c3-0bf4f21d4e8c"
      },
      "cell_type": "code",
      "source": [
        "milk.plot()"
      ],
      "execution_count": 0,
      "outputs": [
        {
          "output_type": "execute_result",
          "data": {
            "text/plain": [
              "<matplotlib.axes._subplots.AxesSubplot at 0x1dd57e068d0>"
            ]
          },
          "metadata": {
            "tags": []
          },
          "execution_count": 5
        },
        {
          "output_type": "display_data",
          "data": {
            "image/png": "[encoded data removed]",
            "text/plain": [
              "<Figure size 432x288 with 1 Axes>"
            ]
          },
          "metadata": {
            "tags": []
          }
        }
      ]
    },
    {
      "metadata": {
        "id": "VbBjYBBgTlZ_",
        "colab_type": "text"
      },
      "cell_type": "markdown",
      "source": [
        "___"
      ]
    },
    {
      "metadata": {
        "id": "s4RnqiXEVJrS",
        "colab_type": "code",
        "colab": {}
      },
      "cell_type": "code",
      "source": [
        "#We will predict the 12 months ahead data by using time series analysis."
      ],
      "execution_count": 0,
      "outputs": []
    },
    {
      "metadata": {
        "id": "O0flJpjzTlaD",
        "colab_type": "code",
        "colab": {},
        "outputId": "24eb2620-6f7a-42eb-fccb-9e8b7bd62f2f"
      },
      "cell_type": "code",
      "source": [
        "milk.info()"
      ],
      "execution_count": 0,
      "outputs": [
        {
          "output_type": "stream",
          "text": [
            "<class 'pandas.core.frame.DataFrame'>\n",
            "DatetimeIndex: 168 entries, 1962-01-01 01:00:00 to 1975-12-01 01:00:00\n",
            "Data columns (total 1 columns):\n",
            "Milk Production    168 non-null float64\n",
            "dtypes: float64(1)\n",
            "memory usage: 2.6 KB\n"
          ],
          "name": "stdout"
        }
      ]
    },
    {
      "metadata": {
        "id": "YL6ZqgYmTlaJ",
        "colab_type": "code",
        "colab": {}
      },
      "cell_type": "code",
      "source": [
        "#Train test split in which last 12 entries will be the test data for comparisons with our predictions. everything else will be training data.\n",
        "train_set=milk.head(156)\n",
        "test_set=milk.tail(12)"
      ],
      "execution_count": 0,
      "outputs": []
    },
    {
      "metadata": {
        "id": "0YQKg4AnTlaS",
        "colab_type": "code",
        "colab": {}
      },
      "cell_type": "code",
      "source": [
        "from sklearn.preprocessing import MinMaxScaler"
      ],
      "execution_count": 0,
      "outputs": []
    },
    {
      "metadata": {
        "id": "T4qQG6KaTlaV",
        "colab_type": "code",
        "colab": {}
      },
      "cell_type": "code",
      "source": [
        "scaler=MinMaxScaler()"
      ],
      "execution_count": 0,
      "outputs": []
    },
    {
      "metadata": {
        "id": "r1EhrgJSTlaX",
        "colab_type": "code",
        "colab": {}
      },
      "cell_type": "code",
      "source": [
        "#Scaling the data by min_max scaler.Only transforming test by fitting into training data as we dont expect to know future behaviour\n",
        "train_scaled=scaler.fit_transform(train_set)\n",
        "test_scaled=scaler.transform(test_set)"
      ],
      "execution_count": 0,
      "outputs": []
    },
    {
      "metadata": {
        "id": "j94srhw8Tlaa",
        "colab_type": "code",
        "colab": {}
      },
      "cell_type": "code",
      "source": [
        ""
      ],
      "execution_count": 0,
      "outputs": []
    },
    {
      "metadata": {
        "id": "-LEFX84gTlae",
        "colab_type": "code",
        "colab": {}
      },
      "cell_type": "code",
      "source": [
        "#This function creates batches pf training data and returns to batches shifted by 1 time step!\n",
        "def next_batch(training_data,batch_size,steps):\n",
        "    \n",
        "\n",
        "    rand_int=np.random.randint(0,len(training_data)-steps)\n",
        "    batch_data=np.array(training_data[rand_int:rand_int+steps+1]).reshape(1,steps+1)\n",
        "    return batch_data[:,:-1].reshape(-1,steps,1),batch_data[:,1:].reshape(-1,steps,1)"
      ],
      "execution_count": 0,
      "outputs": []
    },
    {
      "metadata": {
        "id": "OL1Y68e7Tlam",
        "colab_type": "code",
        "colab": {}
      },
      "cell_type": "code",
      "source": [
        "import tensorflow as tf"
      ],
      "execution_count": 0,
      "outputs": []
    },
    {
      "metadata": {
        "id": "_sXOihJtTlaq",
        "colab_type": "code",
        "colab": {}
      },
      "cell_type": "code",
      "source": [
        "#defining necessary constants.\n",
        "num_inputs=1\n",
        "num_time_steps=12\n",
        "num_neurons=100\n",
        "num_outputs=1\n",
        "learning_rate=0.01\n",
        "num_iter=5000\n",
        "batch_size=1"
      ],
      "execution_count": 0,
      "outputs": []
    },
    {
      "metadata": {
        "id": "f8UGu--BTlaw",
        "colab_type": "code",
        "colab": {}
      },
      "cell_type": "code",
      "source": [
        "#defining placeholders to feed in batches pf data later in session.\n",
        "X=tf.placeholder(tf.float32,shape=[None,num_time_steps,num_inputs])\n",
        "y=tf.placeholder(tf.float32,shape=[None,num_time_steps,num_outputs])"
      ],
      "execution_count": 0,
      "outputs": []
    },
    {
      "metadata": {
        "id": "ncGKAmBRTlaz",
        "colab_type": "code",
        "colab": {}
      },
      "cell_type": "code",
      "source": [
        "#defining single RNN cell. you can also use BASCICRNN cell or a GRU cell.\n",
        "cell=tf.contrib.rnn.OutputProjectionWrapper(tf.contrib.rnn.BasicLSTMCell(num_units=num_neurons,activation=tf.nn.relu),output_size=num_outputs)"
      ],
      "execution_count": 0,
      "outputs": []
    },
    {
      "metadata": {
        "id": "3ZnIwpRtTla2",
        "colab_type": "code",
        "colab": {}
      },
      "cell_type": "code",
      "source": [
        "#rolling out the single cell into different time steps.\n",
        "outputs,states=tf.nn.dynamic_rnn(cell,X,dtype=tf.float32)"
      ],
      "execution_count": 0,
      "outputs": []
    },
    {
      "metadata": {
        "id": "iUIHYYmFTla5",
        "colab_type": "code",
        "colab": {}
      },
      "cell_type": "code",
      "source": [
        "#Creating a Mean Squared Error Loss Function and use it to minimize an AdamOptimizer\n",
        "loss=tf.reduce_mean(tf.square(outputs-y))\n",
        "optimizer=tf.train.AdamOptimizer(learning_rate)\n",
        "train=optimizer.minimize(loss)"
      ],
      "execution_count": 0,
      "outputs": []
    },
    {
      "metadata": {
        "id": "ue9HWzynTla8",
        "colab_type": "code",
        "colab": {}
      },
      "cell_type": "code",
      "source": [
        "#Initialize the global variables\n",
        "init=tf.global_variables_initializer()"
      ],
      "execution_count": 0,
      "outputs": []
    },
    {
      "metadata": {
        "id": "SkAqk0eRTla_",
        "colab_type": "code",
        "colab": {}
      },
      "cell_type": "code",
      "source": [
        "#Creating an instance of tf.train.Saver()\n",
        "saver=tf.train.Saver()"
      ],
      "execution_count": 0,
      "outputs": []
    },
    {
      "metadata": {
        "id": "p5_BzFRCTlbI",
        "colab_type": "code",
        "colab": {},
        "outputId": "e422e8df-56ee-4c21-e902-e0d7c58751e2"
      },
      "cell_type": "code",
      "source": [
        "#creting session and feeding in batches of training data.\n",
        "with tf.Session() as sess:\n",
        "   \n",
        "    sess.run(init)\n",
        "    for i in range(num_iter):\n",
        "        x_batch,y_batch=next_batch(train_scaled,batch_size,num_time_steps)\n",
        "        sess.run(train,feed_dict={X:x_batch,y:y_batch})\n",
        "        \n",
        "        if i%100==0:\n",
        "            mse=sess.run(loss,feed_dict={X:x_batch,y:y_batch})\n",
        "            print(\"Iteration={},lLoss={}\".format(i,mse))\n",
        "        \n",
        "    # Save Model for Later\n",
        "    saver.save(sess, \"./ex_time_series_model\")"
      ],
      "execution_count": 0,
      "outputs": [
        {
          "output_type": "stream",
          "text": [
            "Iteration=0,lLoss=0.3555307388305664\n",
            "Iteration=100,lLoss=0.013291890732944012\n",
            "Iteration=200,lLoss=0.010796904563903809\n",
            "Iteration=300,lLoss=0.0074959187768399715\n",
            "Iteration=400,lLoss=0.009619677439332008\n",
            "Iteration=500,lLoss=0.008589799515902996\n",
            "Iteration=600,lLoss=0.005090691149234772\n",
            "Iteration=700,lLoss=0.005557559430599213\n",
            "Iteration=800,lLoss=0.008921747095882893\n",
            "Iteration=900,lLoss=0.01348074059933424\n",
            "Iteration=1000,lLoss=0.008008033968508244\n",
            "Iteration=1100,lLoss=0.004038154613226652\n",
            "Iteration=1200,lLoss=0.0017818082123994827\n",
            "Iteration=1300,lLoss=0.00570037541911006\n",
            "Iteration=1400,lLoss=0.004358663689345121\n",
            "Iteration=1500,lLoss=0.004497047048062086\n",
            "Iteration=1600,lLoss=0.0023873785976320505\n",
            "Iteration=1700,lLoss=0.0038119980599731207\n",
            "Iteration=1800,lLoss=0.0043905372731387615\n",
            "Iteration=1900,lLoss=0.004267090931534767\n",
            "Iteration=2000,lLoss=0.004509182181209326\n",
            "Iteration=2100,lLoss=0.004681126214563847\n",
            "Iteration=2200,lLoss=0.012479365803301334\n",
            "Iteration=2300,lLoss=0.008593187667429447\n",
            "Iteration=2400,lLoss=0.0043819197453558445\n",
            "Iteration=2500,lLoss=0.005066272336989641\n",
            "Iteration=2600,lLoss=0.005653595086187124\n",
            "Iteration=2700,lLoss=0.007068763021379709\n",
            "Iteration=2800,lLoss=0.007486661896109581\n",
            "Iteration=2900,lLoss=0.008170388638973236\n",
            "Iteration=3000,lLoss=0.006627346854656935\n",
            "Iteration=3100,lLoss=0.0020912550389766693\n",
            "Iteration=3200,lLoss=0.0028381720185279846\n",
            "Iteration=3300,lLoss=0.00679528946056962\n",
            "Iteration=3400,lLoss=0.007978667505085468\n",
            "Iteration=3500,lLoss=0.0024749517906457186\n",
            "Iteration=3600,lLoss=0.003934080246835947\n",
            "Iteration=3700,lLoss=0.002356875455006957\n",
            "Iteration=3800,lLoss=0.006559554021805525\n",
            "Iteration=3900,lLoss=0.0019470718689262867\n",
            "Iteration=4000,lLoss=0.005328325089067221\n",
            "Iteration=4100,lLoss=0.0018153729615733027\n",
            "Iteration=4200,lLoss=0.006771771237254143\n",
            "Iteration=4300,lLoss=0.003288921667262912\n",
            "Iteration=4400,lLoss=0.0017046350985765457\n",
            "Iteration=4500,lLoss=0.0007686528260819614\n",
            "Iteration=4600,lLoss=0.005304135847836733\n",
            "Iteration=4700,lLoss=0.001130864955484867\n",
            "Iteration=4800,lLoss=0.0022415737621486187\n",
            "Iteration=4900,lLoss=0.0059786043129861355\n"
          ],
          "name": "stdout"
        }
      ]
    },
    {
      "metadata": {
        "id": "lCfbAHRiTlbL",
        "colab_type": "text"
      },
      "cell_type": "markdown",
      "source": [
        "______"
      ]
    },
    {
      "metadata": {
        "id": "Om5cUwQMTlbM",
        "colab_type": "code",
        "colab": {},
        "outputId": "0b217adf-688d-4e41-f7ef-798a0894e464"
      },
      "cell_type": "code",
      "source": [
        "#last 12 months of orignal dataset\n",
        "test_set"
      ],
      "execution_count": 0,
      "outputs": [
        {
          "output_type": "execute_result",
          "data": {
            "text/html": [
              "<div>\n",
              "<style scoped>\n",
              "    .dataframe tbody tr th:only-of-type {\n",
              "        vertical-align: middle;\n",
              "    }\n",
              "\n",
              "    .dataframe tbody tr th {\n",
              "        vertical-align: top;\n",
              "    }\n",
              "\n",
              "    .dataframe thead th {\n",
              "        text-align: right;\n",
              "    }\n",
              "</style>\n",
              "<table border=\"1\" class=\"dataframe\">\n",
              "  <thead>\n",
              "    <tr style=\"text-align: right;\">\n",
              "      <th></th>\n",
              "      <th>Milk Production</th>\n",
              "    </tr>\n",
              "    <tr>\n",
              "      <th>Month</th>\n",
              "      <th></th>\n",
              "    </tr>\n",
              "  </thead>\n",
              "  <tbody>\n",
              "    <tr>\n",
              "      <th>1975-01-01 01:00:00</th>\n",
              "      <td>834.0</td>\n",
              "    </tr>\n",
              "    <tr>\n",
              "      <th>1975-02-01 01:00:00</th>\n",
              "      <td>782.0</td>\n",
              "    </tr>\n",
              "    <tr>\n",
              "      <th>1975-03-01 01:00:00</th>\n",
              "      <td>892.0</td>\n",
              "    </tr>\n",
              "    <tr>\n",
              "      <th>1975-04-01 01:00:00</th>\n",
              "      <td>903.0</td>\n",
              "    </tr>\n",
              "    <tr>\n",
              "      <th>1975-05-01 01:00:00</th>\n",
              "      <td>966.0</td>\n",
              "    </tr>\n",
              "    <tr>\n",
              "      <th>1975-06-01 01:00:00</th>\n",
              "      <td>937.0</td>\n",
              "    </tr>\n",
              "    <tr>\n",
              "      <th>1975-07-01 01:00:00</th>\n",
              "      <td>896.0</td>\n",
              "    </tr>\n",
              "    <tr>\n",
              "      <th>1975-08-01 01:00:00</th>\n",
              "      <td>858.0</td>\n",
              "    </tr>\n",
              "    <tr>\n",
              "      <th>1975-09-01 01:00:00</th>\n",
              "      <td>817.0</td>\n",
              "    </tr>\n",
              "    <tr>\n",
              "      <th>1975-10-01 01:00:00</th>\n",
              "      <td>827.0</td>\n",
              "    </tr>\n",
              "    <tr>\n",
              "      <th>1975-11-01 01:00:00</th>\n",
              "      <td>797.0</td>\n",
              "    </tr>\n",
              "    <tr>\n",
              "      <th>1975-12-01 01:00:00</th>\n",
              "      <td>843.0</td>\n",
              "    </tr>\n",
              "  </tbody>\n",
              "</table>\n",
              "</div>"
            ],
            "text/plain": [
              "                     Milk Production\n",
              "Month                               \n",
              "1975-01-01 01:00:00            834.0\n",
              "1975-02-01 01:00:00            782.0\n",
              "1975-03-01 01:00:00            892.0\n",
              "1975-04-01 01:00:00            903.0\n",
              "1975-05-01 01:00:00            966.0\n",
              "1975-06-01 01:00:00            937.0\n",
              "1975-07-01 01:00:00            896.0\n",
              "1975-08-01 01:00:00            858.0\n",
              "1975-09-01 01:00:00            817.0\n",
              "1975-10-01 01:00:00            827.0\n",
              "1975-11-01 01:00:00            797.0\n",
              "1975-12-01 01:00:00            843.0"
            ]
          },
          "metadata": {
            "tags": []
          },
          "execution_count": 21
        }
      ]
    },
    {
      "metadata": {
        "id": "gD2m6SWTTlbV",
        "colab_type": "code",
        "colab": {},
        "outputId": "cc950ff0-52c4-4583-fbb2-eb3b5af6c600"
      },
      "cell_type": "code",
      "source": [
        "#using our trained model to predict 12 months ahead of data\n",
        "with tf.Session() as sess:\n",
        "    \n",
        "    # Using Saver instance to restore your saved rnn time series model\n",
        "    saver.restore(sess, \"./ex_time_series_model\")\n",
        "    my_list=list(train_scaled[-12:])\n",
        "    for i in range(12):\n",
        "        x_batch=np.array(my_list[-num_time_steps:]).reshape(1,num_time_steps,1)\n",
        "        predictions=sess.run(outputs,feed_dict={X:x_batch})\n",
        "        my_list.append(predictions[0,-1,0])\n",
        "        "
      ],
      "execution_count": 0,
      "outputs": [
        {
          "output_type": "stream",
          "text": [
            "INFO:tensorflow:Restoring parameters from ./ex_time_series_model\n"
          ],
          "name": "stdout"
        }
      ]
    },
    {
      "metadata": {
        "id": "90CUElxXTlbZ",
        "colab_type": "code",
        "colab": {},
        "outputId": "7314c302-02cb-4e7b-8dda-fc9e2570f13a"
      },
      "cell_type": "code",
      "source": [
        "my_list"
      ],
      "execution_count": 0,
      "outputs": [
        {
          "output_type": "execute_result",
          "data": {
            "text/plain": [
              "[array([0.66105769]),\n",
              " array([0.54086538]),\n",
              " array([0.80769231]),\n",
              " array([0.83894231]),\n",
              " array([1.]),\n",
              " array([0.94711538]),\n",
              " array([0.85336538]),\n",
              " array([0.75480769]),\n",
              " array([0.62980769]),\n",
              " array([0.62259615]),\n",
              " array([0.52884615]),\n",
              " array([0.625]),\n",
              " 0.6598872,\n",
              " 0.5599241,\n",
              " 0.82050705,\n",
              " 0.85328424,\n",
              " 0.9556481,\n",
              " 0.9288611,\n",
              " 0.8025014,\n",
              " 0.72787946,\n",
              " 0.55704063,\n",
              " 0.6206851,\n",
              " 0.52133596,\n",
              " 0.5288242]"
            ]
          },
          "metadata": {
            "tags": []
          },
          "execution_count": 23
        }
      ]
    },
    {
      "metadata": {
        "id": "arQN--w9Tlbf",
        "colab_type": "code",
        "colab": {}
      },
      "cell_type": "code",
      "source": [
        "#taking the last 12 predicted values and unscaling them to show orignal values.\n",
        "results=scaler.inverse_transform(np.array(my_list[-12:]).reshape(12,1))"
      ],
      "execution_count": 0,
      "outputs": []
    },
    {
      "metadata": {
        "id": "6MK_lo_4Tlbk",
        "colab_type": "code",
        "colab": {},
        "outputId": "6083c50d-0242-4927-d668-0ea88e55b351"
      },
      "cell_type": "code",
      "source": [
        "#appending our predicted values to test ses to compare results.\n",
        "test_set[\"Generated\"]=results"
      ],
      "execution_count": 0,
      "outputs": [
        {
          "output_type": "stream",
          "text": [
            "c:\\users\\asus\\appdata\\local\\programs\\python\\python36\\lib\\site-packages\\ipykernel_launcher.py:1: SettingWithCopyWarning: \n",
            "A value is trying to be set on a copy of a slice from a DataFrame.\n",
            "Try using .loc[row_indexer,col_indexer] = value instead\n",
            "\n",
            "See the caveats in the documentation: http://pandas.pydata.org/pandas-docs/stable/indexing.html#indexing-view-versus-copy\n",
            "  \"\"\"Entry point for launching an IPython kernel.\n"
          ],
          "name": "stderr"
        }
      ]
    },
    {
      "metadata": {
        "id": "z7c0HD2mTlbn",
        "colab_type": "code",
        "colab": {},
        "outputId": "f7033585-6d87-4707-faf9-9781f4c89c77"
      },
      "cell_type": "code",
      "source": [
        "test_set"
      ],
      "execution_count": 0,
      "outputs": [
        {
          "output_type": "execute_result",
          "data": {
            "text/html": [
              "<div>\n",
              "<style scoped>\n",
              "    .dataframe tbody tr th:only-of-type {\n",
              "        vertical-align: middle;\n",
              "    }\n",
              "\n",
              "    .dataframe tbody tr th {\n",
              "        vertical-align: top;\n",
              "    }\n",
              "\n",
              "    .dataframe thead th {\n",
              "        text-align: right;\n",
              "    }\n",
              "</style>\n",
              "<table border=\"1\" class=\"dataframe\">\n",
              "  <thead>\n",
              "    <tr style=\"text-align: right;\">\n",
              "      <th></th>\n",
              "      <th>Milk Production</th>\n",
              "      <th>Generated</th>\n",
              "    </tr>\n",
              "    <tr>\n",
              "      <th>Month</th>\n",
              "      <th></th>\n",
              "      <th></th>\n",
              "    </tr>\n",
              "  </thead>\n",
              "  <tbody>\n",
              "    <tr>\n",
              "      <th>1975-01-01 01:00:00</th>\n",
              "      <td>834.0</td>\n",
              "      <td>827.513062</td>\n",
              "    </tr>\n",
              "    <tr>\n",
              "      <th>1975-02-01 01:00:00</th>\n",
              "      <td>782.0</td>\n",
              "      <td>785.928406</td>\n",
              "    </tr>\n",
              "    <tr>\n",
              "      <th>1975-03-01 01:00:00</th>\n",
              "      <td>892.0</td>\n",
              "      <td>894.330933</td>\n",
              "    </tr>\n",
              "    <tr>\n",
              "      <th>1975-04-01 01:00:00</th>\n",
              "      <td>903.0</td>\n",
              "      <td>907.966248</td>\n",
              "    </tr>\n",
              "    <tr>\n",
              "      <th>1975-05-01 01:00:00</th>\n",
              "      <td>966.0</td>\n",
              "      <td>950.549622</td>\n",
              "    </tr>\n",
              "    <tr>\n",
              "      <th>1975-06-01 01:00:00</th>\n",
              "      <td>937.0</td>\n",
              "      <td>939.406189</td>\n",
              "    </tr>\n",
              "    <tr>\n",
              "      <th>1975-07-01 01:00:00</th>\n",
              "      <td>896.0</td>\n",
              "      <td>886.840576</td>\n",
              "    </tr>\n",
              "    <tr>\n",
              "      <th>1975-08-01 01:00:00</th>\n",
              "      <td>858.0</td>\n",
              "      <td>855.797852</td>\n",
              "    </tr>\n",
              "    <tr>\n",
              "      <th>1975-09-01 01:00:00</th>\n",
              "      <td>817.0</td>\n",
              "      <td>784.728882</td>\n",
              "    </tr>\n",
              "    <tr>\n",
              "      <th>1975-10-01 01:00:00</th>\n",
              "      <td>827.0</td>\n",
              "      <td>811.204956</td>\n",
              "    </tr>\n",
              "    <tr>\n",
              "      <th>1975-11-01 01:00:00</th>\n",
              "      <td>797.0</td>\n",
              "      <td>769.875732</td>\n",
              "    </tr>\n",
              "    <tr>\n",
              "      <th>1975-12-01 01:00:00</th>\n",
              "      <td>843.0</td>\n",
              "      <td>772.990845</td>\n",
              "    </tr>\n",
              "  </tbody>\n",
              "</table>\n",
              "</div>"
            ],
            "text/plain": [
              "                     Milk Production   Generated\n",
              "Month                                           \n",
              "1975-01-01 01:00:00            834.0  827.513062\n",
              "1975-02-01 01:00:00            782.0  785.928406\n",
              "1975-03-01 01:00:00            892.0  894.330933\n",
              "1975-04-01 01:00:00            903.0  907.966248\n",
              "1975-05-01 01:00:00            966.0  950.549622\n",
              "1975-06-01 01:00:00            937.0  939.406189\n",
              "1975-07-01 01:00:00            896.0  886.840576\n",
              "1975-08-01 01:00:00            858.0  855.797852\n",
              "1975-09-01 01:00:00            817.0  784.728882\n",
              "1975-10-01 01:00:00            827.0  811.204956\n",
              "1975-11-01 01:00:00            797.0  769.875732\n",
              "1975-12-01 01:00:00            843.0  772.990845"
            ]
          },
          "metadata": {
            "tags": []
          },
          "execution_count": 26
        }
      ]
    },
    {
      "metadata": {
        "id": "ORI6DVcDTlbr",
        "colab_type": "code",
        "colab": {},
        "outputId": "d8d23fbc-65b6-4b4b-9fda-320cad93d2a7"
      },
      "cell_type": "code",
      "source": [
        "#Plot out the two columns for comparison.\n",
        "test_set.plot()"
      ],
      "execution_count": 0,
      "outputs": [
        {
          "output_type": "execute_result",
          "data": {
            "text/plain": [
              "<matplotlib.axes._subplots.AxesSubplot at 0x1dd648ebb70>"
            ]
          },
          "metadata": {
            "tags": []
          },
          "execution_count": 27
        },
        {
          "output_type": "display_data",
          "data": {
            "image/png": "[encoded data removed]",
            "text/plain": [
              "<Figure size 432x288 with 1 Axes>"
            ]
          },
          "metadata": {
            "tags": []
          }
        }
      ]
    }
  ]
}